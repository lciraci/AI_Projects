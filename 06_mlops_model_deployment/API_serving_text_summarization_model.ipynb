{
  "cells": [
    {
      "cell_type": "code",
      "execution_count": 12,
      "metadata": {
        "id": "ASYj5lmK25fe"
      },
      "outputs": [],
      "source": [
        "!pip install fastapi uvicorn pyngrok transformers"
      ]
    },
    {
      "cell_type": "markdown",
      "metadata": {
        "id": "yJ9NJ7EW3nAu"
      },
      "source": [
        "Run the Server Using pyngrok"
      ]
    },
    {
      "cell_type": "code",
      "execution_count": null,
      "metadata": {
        "colab": {
          "base_uri": "https://localhost:8080/"
        },
        "id": "urA0uFIO4CnS",
        "outputId": "05330923-c0e8-434b-ef33-90dad3afd00d"
      },
      "outputs": [
        {
          "name": "stdout",
          "output_type": "stream",
          "text": [
            "Public URL: NgrokTunnel: \"https://2da2fd6bee21.ngrok-free.app\" -> \"http://localhost:8000\"\n"
          ]
        }
      ],
      "source": [
        "from pyngrok import ngrok\n",
        "\n",
        "token = getpass(\"Enter your ngrok token: \")\n",
        "ngrok.set_auth_token(token)\n",
        "\n",
        "\n",
        "public_url = ngrok.connect(8000)\n",
        "print(\"Public URL:\", public_url)\n",
        "\n"
      ]
    },
    {
      "cell_type": "markdown",
      "metadata": {
        "id": "M6TAozMB3mZP"
      },
      "source": [
        "Create the FastAPI App Inside the Notebook"
      ]
    },
    {
      "cell_type": "code",
      "execution_count": 8,
      "metadata": {
        "colab": {
          "base_uri": "https://localhost:8080/"
        },
        "id": "xFxcja2o3M6l",
        "outputId": "89a23ac8-e0dc-459e-e44b-ad4ec5d1c5c1"
      },
      "outputs": [
        {
          "name": "stderr",
          "output_type": "stream",
          "text": [
            "Device set to use cuda:0\n"
          ]
        }
      ],
      "source": [
        "from pydantic import BaseModel\n",
        "from transformers import pipeline\n",
        "\n",
        "summarizer = pipeline(\"summarization\", model=\"facebook/bart-large-cnn\")\n",
        "\n",
        "app = FastAPI()\n",
        "\n",
        "class SummaryRequest(BaseModel):\n",
        "    text: str\n",
        "\n",
        "@app.post(\"/summarize\")\n",
        "def summarize_text(request: SummaryRequest):\n",
        "    summary = summarizer(request.text, max_length=130, min_length=30, do_sample=False)\n",
        "    return {\"summary\": summary[0]['summary_text']}\n"
      ]
    }
  ],
  "metadata": {
    "accelerator": "GPU",
    "colab": {
      "gpuType": "T4",
      "provenance": []
    },
    "kernelspec": {
      "display_name": "Python 3",
      "name": "python3"
    },
    "language_info": {
      "name": "python"
    }
  },
  "nbformat": 4,
  "nbformat_minor": 0
}
