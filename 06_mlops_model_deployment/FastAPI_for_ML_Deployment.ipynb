{
 "cells": [
  {
   "cell_type": "code",
   "execution_count": null,
   "id": "1e9b14f3",
   "metadata": {},
   "outputs": [],
   "source": []
  }
 ],
 "metadata": {
  "language_info": {
   "name": "python"
  }
 },
 "nbformat": 4,
 "nbformat_minor": 5
}
