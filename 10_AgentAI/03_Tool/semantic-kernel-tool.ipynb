{
 "cells": [
  {
   "cell_type": "markdown",
   "metadata": {},
   "source": [
    "# Semantic Kernel Tool Use Example - Simulating flight booking"
   ]
  },
  {
   "cell_type": "markdown",
   "metadata": {},
   "source": [
    "## Import the Needed Packages "
   ]
  },
  {
   "cell_type": "code",
   "execution_count": 1,
   "metadata": {},
   "outputs": [],
   "source": [
    "import json\n",
    "import os\n",
    "\n",
    "from dotenv import load_dotenv\n",
    "\n",
    "from IPython.display import display, HTML\n",
    "\n",
    "from typing import Annotated\n",
    "from openai import AsyncOpenAI\n",
    "\n",
    "from semantic_kernel.agents import ChatCompletionAgent, ChatHistoryAgentThread\n",
    "from semantic_kernel.connectors.ai.open_ai import OpenAIChatCompletion\n",
    "from semantic_kernel.contents import FunctionCallContent, FunctionResultContent, StreamingTextContent\n",
    "from semantic_kernel.functions import kernel_function"
   ]
  },
  {
   "cell_type": "markdown",
   "metadata": {},
   "source": [
    "## Creating the Plugins    \n",
    "Semantic Kernel uses plugins as tools that can be called by the agent. A plugin can have multiple `kernel_functions` in it as a group. \n",
    "\n",
    "In the example below, we create a `FlightSimulation` that has two functions: \n",
    "1. Returns a list of available destinations along with their corresponding flight prices `get_flight_prices(origin, destination)`\n",
    "2. Returns the seat availability for a given route and destination `get_availabilty(origin, destination)`"
   ]
  },
  {
   "cell_type": "code",
   "execution_count": 8,
   "metadata": {},
   "outputs": [],
   "source": [
    "# Define a sample plugin for flights (same code/signature, richer example data)\n",
    "class FlightSimulation:\n",
    "    \"\"\"Simulates flight search and availability for given destinations.\"\"\"\n",
    "\n",
    "    @kernel_function(description=\"Provides flight prices for a given origin and destination.\")\n",
    "    def get_flight_prices(\n",
    "        self,\n",
    "        origin: Annotated[str, \"The city or airport of departure.\"],\n",
    "        destination: Annotated[str, \"The city or airport of arrival.\"]\n",
    "    ) -> Annotated[str, \"Returns the flight price for the given route.\"]:\n",
    "        return \"\"\"\n",
    "        New York (JFK) → Tokyo (HND) - $950\n",
    "        Los Angeles (LAX) → Paris (CDG) - $780\n",
    "        London (LHR) → Rome (FCO) - $220\n",
    "        Charlotte (CLT) → Miami (MIA) - $160\n",
    "        Tokyo (NRT) → Sydney (SYD) - $620\n",
    "        San Francisco (SFO) → Singapore (SIN) - $880\n",
    "        Dubai (DXB) → New Delhi (DEL) - $340\n",
    "        Frankfurt (FRA) → Barcelona (BCN) - $140\n",
    "        Toronto (YYZ) → New York (LGA) - $120\n",
    "        Mexico City (MEX) → Madrid (MAD) - $540\n",
    "        \"\"\"\n",
    "\n",
    "    @kernel_function(description=\"Provides seat availability for a given origin and destination.\")\n",
    "    def get_availability(\n",
    "        self,\n",
    "        origin: Annotated[str, \"The city or airport of departure.\"],\n",
    "        destination: Annotated[str, \"The city or airport of arrival.\"]\n",
    "    ) -> Annotated[str, \"Returns the seat availability for the given route.\"]:\n",
    "        return \"\"\"\n",
    "        New York (JFK) → Tokyo (HND) - Limited\n",
    "        Los Angeles (LAX) → Paris (CDG) - Available\n",
    "        London (LHR) → Rome (FCO) - Unavailable\n",
    "        Charlotte (CLT) → Miami (MIA) - Available\n",
    "        Tokyo (NRT) → Sydney (SYD) - Waitlist\n",
    "        San Francisco (SFO) → Singapore (SIN) - Available\n",
    "        Dubai (DXB) → New Delhi (DEL) - Limited\n",
    "        Frankfurt (FRA) → Barcelona (BCN) - Available\n",
    "        Toronto (YYZ) → New York (LGA) - Available\n",
    "        Mexico City (MEX) → Madrid (MAD) - Unavailable\n",
    "        \"\"\"\n"
   ]
  },
  {
   "cell_type": "markdown",
   "metadata": {},
   "source": [
    "## Creating the Client\n",
    "\n",
    "In this sample, we will use [GitHub Models](https://aka.ms/ai-agents-beginners/github-models) for access to the LLM. \n",
    "\n",
    "The `ai_model_id` is defined as `gpt-4o-mini`. Try changing the model to another model available on the GitHub Models marketplace to see the different results. \n",
    "\n",
    "For us to use the `Azure Inference SDK` that is used for the `base_url` for GitHub Models, we will use the `OpenAIChatCompletion` connector within Semantic Kernel. There are also other [available connectors](https://learn.microsoft.com/semantic-kernel/concepts/ai-services/chat-completion) to use Semantic Kernel for other model providers."
   ]
  },
  {
   "cell_type": "code",
   "execution_count": 9,
   "metadata": {},
   "outputs": [],
   "source": [
    "load_dotenv()\n",
    "client = AsyncOpenAI(\n",
    "    api_key=os.getenv(\"GITHUB_TOKEN\"), \n",
    "    base_url=\"https://models.inference.ai.azure.com/\",\n",
    ")\n",
    "\n",
    "chat_completion_service = OpenAIChatCompletion(\n",
    "    ai_model_id=\"gpt-4o-mini\",\n",
    "    async_client=client,\n",
    ")"
   ]
  },
  {
   "cell_type": "markdown",
   "metadata": {},
   "source": [
    "## Creating the Agent \n",
    "Now we will create the Agent by using the Agent Name and Instructions that we can set. \n",
    "\n",
    "You can change these settings to see how the differences in the agent's response. "
   ]
  },
  {
   "cell_type": "code",
   "execution_count": 11,
   "metadata": {},
   "outputs": [],
   "source": [
    "# Create the agent\n",
    "agent = ChatCompletionAgent(\n",
    "    service=chat_completion_service,\n",
    "    name=\"TravelAgent\",\n",
    "    instructions=\"Answer questions about flight prices and seat availability for given destinations.\",\n",
    "    plugins=[FlightSimulation()],\n",
    ")\n"
   ]
  },
  {
   "cell_type": "markdown",
   "metadata": {},
   "source": [
    "## Running the Agent \n",
    "\n",
    "Now we will run the AI Agent.\n",
    "In this snippet, we add two messages to user_inputs to demonstrate how the agent responds to follow-up questions.\n",
    "\n",
    "The agent should call the correct function to get the flight prices for a given route and confirm the seat availability for that same route.\n",
    "\n",
    "You can change the user_inputs to test different origins, destinations, and scenarios. "
   ]
  },
  {
   "cell_type": "code",
   "execution_count": 12,
   "metadata": {},
   "outputs": [
    {
     "data": {
      "text/html": [
       "<div style='margin-bottom:10px'><div style='font-weight:bold'>User:</div><div style='margin-left:20px'>What are the flight prices from New York to Tokyo?</div></div><div style='margin-bottom:20px'><div style='font-weight:bold'>TravelAgent:</div><div style='margin-left:20px; white-space:pre-wrap'>The flight price from New York (JFK) to Tokyo (HND) is $950.</div></div><hr>"
      ],
      "text/plain": [
       "<IPython.core.display.HTML object>"
      ]
     },
     "metadata": {},
     "output_type": "display_data"
    },
    {
     "data": {
      "text/html": [
       "<div style='margin-bottom:10px'><div style='font-weight:bold'>User:</div><div style='margin-left:20px'>Is there seat availability from New York to Tokyo?</div></div><div style='margin-bottom:20px'><div style='font-weight:bold'>TravelAgent:</div><div style='margin-left:20px; white-space:pre-wrap'>There is limited seat availability for flights from New York (JFK) to Tokyo (HND).</div></div><hr>"
      ],
      "text/plain": [
       "<IPython.core.display.HTML object>"
      ]
     },
     "metadata": {},
     "output_type": "display_data"
    },
    {
     "data": {
      "text/html": [
       "<div style='margin-bottom:10px'><div style='font-weight:bold'>User:</div><div style='margin-left:20px'>Any flights available from Los Angeles to Paris?</div></div><div style='margin-bottom:20px'><div style='font-weight:bold'>TravelAgent:</div><div style='margin-left:20px; white-space:pre-wrap'>Yes, there are available flights from Los Angeles (LAX) to Paris (CDG).</div></div><hr>"
      ],
      "text/plain": [
       "<IPython.core.display.HTML object>"
      ]
     },
     "metadata": {},
     "output_type": "display_data"
    }
   ],
   "source": [
    "user_inputs = [\n",
    "    \"What are the flight prices from New York to Tokyo?\",\n",
    "    \"Is there seat availability from New York to Tokyo?\",\n",
    "    \"Any flights available from Los Angeles to Paris?\",\n",
    "]\n",
    "\n",
    "async def main():\n",
    "    thread: ChatHistoryAgentThread | None = None\n",
    "\n",
    "    for user_input in user_inputs:\n",
    "        html_output = (\n",
    "            f\"<div style='margin-bottom:10px'>\"\n",
    "            f\"<div style='font-weight:bold'>User:</div>\"\n",
    "            f\"<div style='margin-left:20px'>{user_input}</div></div>\"\n",
    "        )\n",
    "\n",
    "        agent_name = None\n",
    "        full_response: list[str] = []\n",
    "        function_calls: list[str] = []\n",
    "\n",
    "        # Buffer to reconstruct streaming function call\n",
    "        current_function_name = None\n",
    "        argument_buffer = \"\"\n",
    "\n",
    "        async for response in agent.invoke_stream(\n",
    "            messages=user_input,\n",
    "            thread=thread,\n",
    "        ):\n",
    "            thread = response.thread\n",
    "            agent_name = response.name\n",
    "            content_items = list(response.items)\n",
    "\n",
    "            for item in content_items:\n",
    "                if isinstance(item, FunctionCallContent):\n",
    "                    if item.function_name:\n",
    "                        current_function_name = item.function_name\n",
    "\n",
    "                    # Accumulate arguments (streamed in chunks)\n",
    "                    if isinstance(item.arguments, str):\n",
    "                        argument_buffer += item.arguments\n",
    "                elif isinstance(item, FunctionResultContent):\n",
    "                    # Finalize any pending function call before showing result\n",
    "                    if current_function_name:\n",
    "                        formatted_args = argument_buffer.strip()\n",
    "                        try:\n",
    "                            parsed_args = json.loads(formatted_args)\n",
    "                            formatted_args = json.dumps(parsed_args)\n",
    "                        except Exception:\n",
    "                            pass  # leave as raw string\n",
    "\n",
    "                        function_calls.append(f\"Calling function: {current_function_name}({formatted_args})\")\n",
    "                        current_function_name = None\n",
    "                        argument_buffer = \"\"\n",
    "\n",
    "                    function_calls.append(f\"\\nFunction Result:\\n\\n{item.result}\")\n",
    "                elif isinstance(item, StreamingTextContent) and item.text:\n",
    "                    full_response.append(item.text)\n",
    "\n",
    "        if function_calls:\n",
    "            html_output += (\n",
    "                \"<div style='margin-bottom:10px'>\"\n",
    "                \"<details>\"\n",
    "                \"<summary style='cursor:pointer; font-weight:bold; color:#0066cc;'>Function Calls (click to expand)</summary>\"\n",
    "                \"<div style='margin:10px; padding:10px; background-color:#f8f8f8; \"\n",
    "                \"border:1px solid #ddd; border-radius:4px; white-space:pre-wrap; font-size:14px; color:#333;'>\"\n",
    "                f\"{chr(10).join(function_calls)}\"\n",
    "                \"</div></details></div>\"\n",
    "            )\n",
    "\n",
    "        html_output += (\n",
    "            \"<div style='margin-bottom:20px'>\"\n",
    "            f\"<div style='font-weight:bold'>{agent_name or 'Assistant'}:</div>\"\n",
    "            f\"<div style='margin-left:20px; white-space:pre-wrap'>{''.join(full_response)}</div></div><hr>\"\n",
    "        )\n",
    "\n",
    "        display(HTML(html_output))\n",
    "\n",
    "await main()\n"
   ]
  }
 ],
 "metadata": {
  "kernelspec": {
   "display_name": "ai_agents",
   "language": "python",
   "name": "python3"
  },
  "language_info": {
   "codemirror_mode": {
    "name": "ipython",
    "version": 3
   },
   "file_extension": ".py",
   "mimetype": "text/x-python",
   "name": "python",
   "nbconvert_exporter": "python",
   "pygments_lexer": "ipython3",
   "version": "3.12.11"
  }
 },
 "nbformat": 4,
 "nbformat_minor": 2
}
