{
 "cells": [
  {
   "cell_type": "code",
   "execution_count": 2,
   "metadata": {},
   "outputs": [],
   "source": [
    "import os\n",
    "\n",
    "from autogen_agentchat.agents import AssistantAgent\n",
    "from autogen_core.models import UserMessage\n",
    "from autogen_ext.models.azure import AzureAIChatCompletionClient\n",
    "from azure.core.credentials import AzureKeyCredential\n",
    "from autogen_core import CancellationToken\n",
    "from autogen_agentchat.base import TaskResult\n",
    "\n",
    "from autogen_agentchat.messages import TextMessage\n",
    "from autogen_agentchat.ui import Console\n",
    "\n",
    "\n",
    "from autogen_agentchat.conditions import TextMentionTermination\n",
    "from autogen_agentchat.teams import RoundRobinGroupChat"
   ]
  },
  {
   "cell_type": "code",
   "execution_count": 3,
   "metadata": {},
   "outputs": [
    {
     "name": "stderr",
     "output_type": "stream",
     "text": [
      "c:\\Users\\Me\\anaconda3\\envs\\ai_agents\\Lib\\site-packages\\autogen_ext\\models\\azure\\_azure_ai_client.py:307: UserWarning: Missing required field 'structured_output' in ModelInfo. This field will be required in a future version of AutoGen.\n",
      "  validate_model_info(config[\"model_info\"])\n"
     ]
    }
   ],
   "source": [
    "client = AzureAIChatCompletionClient(\n",
    "    model=\"gpt-4o-mini\",\n",
    "    endpoint=\"https://models.inference.ai.azure.com\",\n",
    "    # To authenticate with the model you will need to generate a personal access token (PAT) in your GitHub settings.\n",
    "    # Create your PAT token by following instructions here: https://docs.github.com/en/authentication/keeping-your-account-and-data-secure/managing-your-personal-access-tokens\n",
    "    credential=AzureKeyCredential(os.environ[\"GITHUB_TOKEN\"]),\n",
    "    model_info={\n",
    "        \"json_output\": True,\n",
    "        \"function_calling\": True,\n",
    "        \"vision\": True,\n",
    "        \"family\": \"unknown\",\n",
    "    },\n",
    ")"
   ]
  },
  {
   "cell_type": "code",
   "execution_count": 4,
   "metadata": {},
   "outputs": [],
   "source": [
    "# Renamed + repurposed from your originals\n",
    "\n",
    "triage_agent = AssistantAgent(\n",
    "    \"triage_agent\",\n",
    "    model_client=client,\n",
    "    description=\"Triage assistant for customer service. Collects essentials and proposes exactly one next action.\",\n",
    "    system_message=\"\"\"\n",
    "You are a Customer Service Triage Agent with ten years of experience. You are brief and solution-first.\n",
    "Goal: collect the key details (issue, user/account, urgency) and propose ONE concrete next step.\n",
    "\n",
    "STRICT RULES:\n",
    "- Output MUST be valid JSON with this exact shape:\n",
    "  {\n",
    "    \"issue\": \"<plain-language summary in one sentence>\",\n",
    "    \"user_id\": \"<string or null if unknown>\",\n",
    "    \"urgency\": \"<low|medium|high>\",\n",
    "    \"next_action\": \"<the single best next action>\",\n",
    "    \"user_reply\": \"<ONE short sentence to send to the customer>\"\n",
    "  }\n",
    "- Only ONE actionable recommendation in \"next_action\".\n",
    "- Be concise. No small talk.\n",
    "- If user seems upset, the \"user_reply\" may include ONE brief empathy clause (still one sentence).\n",
    "\n",
    "EXAMPLES OF 'next_action':\n",
    "- \"Verify order number and request a photo of the damaged item.\"\n",
    "- \"Offer a prepaid return label and create RMA.\"\n",
    "- \"Check shipment status and provide updated ETA.\"\n",
    "\n",
    "If information is missing, set user_id to null and choose the best next step to obtain it.\n",
    "\"\"\",\n",
    ")\n",
    "\n",
    "concierge_qa_agent = AssistantAgent(\n",
    "    \"concierge_qa_agent\",\n",
    "    model_client=client,\n",
    "    description=\"Quality gate for CS replies: checks policy, clarity, tone, and whether the next step is the single best one.\",\n",
    "    system_message=\"\"\"\n",
    "You are a Customer Service QA Concierge. You insist on local, authentic customer experience and clear policy adherence.\n",
    "\n",
    "Goal: Decide if the triage_agent's output is the BEST single next step for the customer right now.\n",
    "\n",
    "STRICT OUTPUT:\n",
    "- If acceptable, respond with EXACTLY: APPROVE\n",
    "- If not, respond with: REFINE: <guidance in <=140 characters, no examples, no long text>\n",
    "\n",
    "CHECKS:\n",
    "- Single best next step? (no alternatives or lists)\n",
    "- Tone: brief, helpful, on-brand, optional short empathy if needed\n",
    "- Policy alignment (returns/warranty/refunds/SLAs)\n",
    "- Clarity and actionability\n",
    "\n",
    "Do NOT provide a specific rewritten reply—only guidance if refinement is needed.\n",
    "\"\"\",\n",
    ")\n"
   ]
  },
  {
   "cell_type": "code",
   "execution_count": 5,
   "metadata": {},
   "outputs": [
    {
     "name": "stdout",
     "output_type": "stream",
     "text": [
      "id='f0f7d985-ae12-4157-9dd8-a7e0f90bc011' source='user' models_usage=None metadata={} created_at=datetime.datetime(2025, 8, 12, 2, 4, 26, 912869, tzinfo=datetime.timezone.utc) content=\"Customer says: 'My order #A123 arrived damaged and I need a replacement.'\" type='TextMessage'\n",
      "id='6651d4a3-cf00-4991-bbfc-eeb981b7f504' source='triage_agent' models_usage=RequestUsage(prompt_tokens=256, completion_tokens=72) metadata={} created_at=datetime.datetime(2025, 8, 12, 2, 4, 29, 171831, tzinfo=datetime.timezone.utc) content='{\\n  \"issue\": \"Order A123 arrived damaged and requires a replacement.\",\\n  \"user_id\": null,\\n  \"urgency\": \"high\",\\n  \"next_action\": \"Offer a prepaid return label and create RMA.\",\\n  \"user_reply\": \"I\\'m sorry to hear your order arrived damaged; I\\'ll arrange for a replacement right away.\"\\n}' type='TextMessage'\n",
      "id='9c93e2fb-086e-458c-ab01-05a3c9b2ce60' source='concierge_qa_agent' models_usage=RequestUsage(prompt_tokens=253, completion_tokens=18) metadata={} created_at=datetime.datetime(2025, 8, 12, 2, 4, 30, 201682, tzinfo=datetime.timezone.utc) content='REFINE: Ensure to provide details on return label process and next steps for replacement.' type='TextMessage'\n",
      "id='22d289cb-8828-4da4-b7e4-8499d928dd88' source='triage_agent' models_usage=RequestUsage(prompt_tokens=352, completion_tokens=86) metadata={} created_at=datetime.datetime(2025, 8, 12, 2, 4, 32, 200022, tzinfo=datetime.timezone.utc) content='{\\n  \"issue\": \"Order A123 arrived damaged and requires a replacement.\",\\n  \"user_id\": null,\\n  \"urgency\": \"high\",\\n  \"next_action\": \"Offer a prepaid return label, explain the return process, and confirm replacement shipment.\",\\n  \"user_reply\": \"I\\'m sorry to hear your order arrived damaged; I\\'ll send you a prepaid return label and outline the next steps for your replacement.\"\\n}' type='TextMessage'\n",
      "id='766f07b6-3e68-4385-ab05-c05a5566bf90' source='concierge_qa_agent' models_usage=RequestUsage(prompt_tokens=363, completion_tokens=4) metadata={} created_at=datetime.datetime(2025, 8, 12, 2, 4, 32, 860403, tzinfo=datetime.timezone.utc) content='APPROVE' type='TextMessage'\n",
      "Stop Reason: Text 'APPROVE' mentioned\n"
     ]
    }
   ],
   "source": [
    "# Terminate when the QA (concierge_qa_agent) responds with \"APPROVE\"\n",
    "termination = TextMentionTermination(\"APPROVE\")\n",
    "\n",
    "# Use the new minimal-role agents\n",
    "team = RoundRobinGroupChat(\n",
    "    [triage_agent, concierge_qa_agent],\n",
    "    termination_condition=termination\n",
    ")\n",
    "\n",
    "# Example CS task (replace with your runtime input)\n",
    "task = \"Customer says: 'My order #A123 arrived damaged and I need a replacement.'\"\n",
    "\n",
    "# Stream results until termination hits (\"APPROVE\") or the run ends\n",
    "async for message in team.run_stream(task=task):\n",
    "    if isinstance(message, TaskResult):\n",
    "        print(\"Stop Reason:\", message.stop_reason)   # e.g., \"termination_condition_met\"\n",
    "    else:\n",
    "        print(message)\n"
   ]
  }
 ],
 "metadata": {
  "kernelspec": {
   "display_name": "ai_agents",
   "language": "python",
   "name": "python3"
  },
  "language_info": {
   "codemirror_mode": {
    "name": "ipython",
    "version": 3
   },
   "file_extension": ".py",
   "mimetype": "text/x-python",
   "name": "python",
   "nbconvert_exporter": "python",
   "pygments_lexer": "ipython3",
   "version": "3.12.11"
  }
 },
 "nbformat": 4,
 "nbformat_minor": 2
}
